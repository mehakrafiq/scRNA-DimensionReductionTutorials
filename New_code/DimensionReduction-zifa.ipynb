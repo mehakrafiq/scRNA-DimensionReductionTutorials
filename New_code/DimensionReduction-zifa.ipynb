{
 "cells": [
  {
   "cell_type": "code",
   "execution_count": 4,
   "metadata": {},
   "outputs": [],
   "source": [
    "# Import Libraries\n",
    "import os\n",
    "import sys\n",
    "\n",
    "import numpy as np\n",
    "import pandas as pd\n",
    "import matplotlib.pyplot as plt\n",
    "import seaborn as sns\n",
    "\n",
    "# Bioinformatics Libraries\n",
    "import Bio\n",
    "import scanpy as sc\n",
    "\n",
    "# Ignore warnings\n",
    "import warnings\n",
    "warnings.filterwarnings('ignore')"
   ]
  },
  {
   "cell_type": "code",
   "execution_count": 5,
   "metadata": {},
   "outputs": [
    {
     "name": "stdout",
     "output_type": "stream",
     "text": [
      "AnnData object with n_obs × n_vars = 2700 × 32738\n",
      "    var: 'gene_ids'\n"
     ]
    }
   ],
   "source": [
    "# Load the pbmc3k dataset\n",
    "adata = sc.datasets.pbmc3k()\n",
    "\n",
    "print(adata)"
   ]
  },
  {
   "cell_type": "code",
   "execution_count": 6,
   "metadata": {},
   "outputs": [
    {
     "name": "stdout",
     "output_type": "stream",
     "text": [
      "AnnData object with n_obs × n_vars = 2700 × 13714\n",
      "    obs: 'n_genes'\n",
      "    var: 'gene_ids', 'n_cells'\n"
     ]
    }
   ],
   "source": [
    "# Basic filtering\n",
    "sc.pp.filter_cells(adata, min_genes=200)\n",
    "sc.pp.filter_genes(adata, min_cells=3)\n",
    "\n",
    "print(adata)\n"
   ]
  },
  {
   "cell_type": "code",
   "execution_count": 7,
   "metadata": {},
   "outputs": [],
   "source": [
    "# Normalize the data\n",
    "sc.pp.normalize_total(adata, target_sum=1e4)\n",
    "\n",
    "# Logarithmize the data\n",
    "sc.pp.log1p(adata)\n",
    "\n",
    "# Store the raw data\n",
    "adata.raw = adata\n",
    "\n"
   ]
  },
  {
   "cell_type": "code",
   "execution_count": 8,
   "metadata": {},
   "outputs": [
    {
     "name": "stdout",
     "output_type": "stream",
     "text": [
      "1872\n"
     ]
    }
   ],
   "source": [
    "# Identify highly variable genes\n",
    "sc.pp.highly_variable_genes(adata, min_mean=0.0125, max_mean=3, min_disp=0.5)\n",
    "\n",
    "# Filter the data\n",
    "adata = adata[:, adata.var.highly_variable]\n",
    "\n",
    "# Summarize the highly variable genes\n",
    "print(adata.var.highly_variable.sum())\n"
   ]
  },
  {
   "cell_type": "code",
   "execution_count": 9,
   "metadata": {},
   "outputs": [
    {
     "data": {
      "text/plain": [
       "View of AnnData object with n_obs × n_vars = 2700 × 1872\n",
       "    obs: 'n_genes'\n",
       "    var: 'gene_ids', 'n_cells', 'highly_variable', 'means', 'dispersions', 'dispersions_norm'\n",
       "    uns: 'log1p', 'hvg'"
      ]
     },
     "execution_count": 9,
     "metadata": {},
     "output_type": "execute_result"
    }
   ],
   "source": [
    "adata"
   ]
  },
  {
   "cell_type": "markdown",
   "metadata": {},
   "source": [
    "## Dimension Reduction"
   ]
  },
  {
   "cell_type": "markdown",
   "metadata": {},
   "source": [
    "### Zifa"
   ]
  },
  {
   "cell_type": "markdown",
   "metadata": {},
   "source": [
    "ZIFA has an n_componet like as K , I still did that since I didn't know when i started"
   ]
  },
  {
   "cell_type": "code",
   "execution_count": 10,
   "metadata": {},
   "outputs": [],
   "source": [
    "# Import Libraries\n",
    "from ZIFA import ZIFA\n",
    "from ZIFA import block_ZIFA\n",
    "import numpy as np\n",
    "\n"
   ]
  },
  {
   "cell_type": "code",
   "execution_count": 12,
   "metadata": {},
   "outputs": [
    {
     "data": {
      "text/plain": [
       "(2700, 13714)"
      ]
     },
     "execution_count": 12,
     "metadata": {},
     "output_type": "execute_result"
    }
   ],
   "source": [
    "# ZIFA is designed to work with count data, so we need to make sure we're using the raw counts before normalization and log-transformation.\n",
    "# If you have stored the raw data in adata.raw, you can use that; otherwise, make sure to use the original count data.\n",
    "X_counts = adata.raw.X.toarray() if adata.raw is not None else adata.X.toarray()\n",
    "X_counts.shape"
   ]
  },
  {
   "cell_type": "code",
   "execution_count": 13,
   "metadata": {},
   "outputs": [
    {
     "name": "stdout",
     "output_type": "stream",
     "text": [
      "Warning: this dataset has a large number of genes. If ZIFA takes too long to run, try using block_ZIFA.py instead\n",
      "Running zero-inflated factor analysis with N = 2700, D = 13714, K = 6\n"
     ]
    }
   ],
   "source": [
    "# Set the number of dimensions to reduce down to\n",
    "n_components = 6  # ZIFA often works better with fewer components\n",
    "\n",
    "# Fit the ZIFA model\n",
    "# Note that ZIFA can be very slow, especially on larger datasets\n",
    "Z, model_params = ZIFA.fitModel(X_counts, n_components)\n",
    "\n",
    "# The result is in Z, which we can add back to the AnnData object\n",
    "adata.obsm['X_zifa'] = Z\n"
   ]
  },
  {
   "cell_type": "code",
   "execution_count": null,
   "metadata": {},
   "outputs": [],
   "source": [
    "# Visualize the results\n",
    "# Extract the first two ZIFA components\n",
    "zifa_comp1 = adata.obsm['X_zifa'][:, 0]\n",
    "zifa_comp2 = adata.obsm['X_zifa'][:, 1]\n",
    "\n",
    "# Create a scatter plot of the first two ZIFA components\n",
    "plt.figure(figsize=(8, 6))\n",
    "plt.scatter(zifa_comp1, zifa_comp2, s=5, alpha=0.7)\n",
    "plt.title('ZIFA - First Two Components')\n",
    "plt.xlabel('ZIFA1')\n",
    "plt.ylabel('ZIFA2')\n",
    "plt.show()\n"
   ]
  }
 ],
 "metadata": {
  "kernelspec": {
   "display_name": "spatialomix",
   "language": "python",
   "name": "python3"
  },
  "language_info": {
   "codemirror_mode": {
    "name": "ipython",
    "version": 3
   },
   "file_extension": ".py",
   "mimetype": "text/x-python",
   "name": "python",
   "nbconvert_exporter": "python",
   "pygments_lexer": "ipython3",
   "version": "3.10.13"
  }
 },
 "nbformat": 4,
 "nbformat_minor": 2
}
