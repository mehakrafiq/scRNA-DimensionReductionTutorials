{
 "cells": [
  {
   "cell_type": "code",
   "execution_count": 1,
   "metadata": {},
   "outputs": [],
   "source": [
    "# Import Libraries\n",
    "import os\n",
    "import sys\n",
    "\n",
    "import numpy as np\n",
    "import pandas as pd\n",
    "import matplotlib.pyplot as plt\n",
    "import seaborn as sns\n",
    "\n",
    "# Bioinformatics Libraries\n",
    "import Bio\n",
    "import scanpy as sc\n",
    "\n",
    "# Ignore warnings\n",
    "import warnings\n",
    "warnings.filterwarnings('ignore')"
   ]
  },
  {
   "cell_type": "code",
   "execution_count": 2,
   "metadata": {},
   "outputs": [
    {
     "name": "stdout",
     "output_type": "stream",
     "text": [
      "AnnData object with n_obs × n_vars = 2700 × 32738\n",
      "    var: 'gene_ids'\n"
     ]
    }
   ],
   "source": [
    "# Load the pbmc3k dataset\n",
    "adata = sc.datasets.pbmc3k()\n",
    "\n",
    "print(adata)"
   ]
  },
  {
   "cell_type": "code",
   "execution_count": 3,
   "metadata": {},
   "outputs": [
    {
     "name": "stdout",
     "output_type": "stream",
     "text": [
      "AnnData object with n_obs × n_vars = 2700 × 13714\n",
      "    obs: 'n_genes'\n",
      "    var: 'gene_ids', 'n_cells'\n"
     ]
    }
   ],
   "source": [
    "# Basic filtering\n",
    "sc.pp.filter_cells(adata, min_genes=200)\n",
    "sc.pp.filter_genes(adata, min_cells=3)\n",
    "\n",
    "print(adata)\n"
   ]
  },
  {
   "cell_type": "code",
   "execution_count": 4,
   "metadata": {},
   "outputs": [],
   "source": [
    "# Normalize the data\n",
    "sc.pp.normalize_total(adata, target_sum=1e4)\n",
    "\n",
    "# Logarithmize the data\n",
    "sc.pp.log1p(adata)\n",
    "\n",
    "# Store the raw data\n",
    "adata.raw = adata\n",
    "\n"
   ]
  },
  {
   "cell_type": "code",
   "execution_count": 5,
   "metadata": {},
   "outputs": [
    {
     "name": "stdout",
     "output_type": "stream",
     "text": [
      "1872\n"
     ]
    }
   ],
   "source": [
    "# Identify highly variable genes\n",
    "sc.pp.highly_variable_genes(adata, min_mean=0.0125, max_mean=3, min_disp=0.5)\n",
    "\n",
    "# Filter the data\n",
    "adata = adata[:, adata.var.highly_variable]\n",
    "\n",
    "# Summarize the highly variable genes\n",
    "print(adata.var.highly_variable.sum())\n"
   ]
  },
  {
   "cell_type": "code",
   "execution_count": 6,
   "metadata": {},
   "outputs": [
    {
     "data": {
      "text/plain": [
       "View of AnnData object with n_obs × n_vars = 2700 × 1872\n",
       "    obs: 'n_genes'\n",
       "    var: 'gene_ids', 'n_cells', 'highly_variable', 'means', 'dispersions', 'dispersions_norm'\n",
       "    uns: 'log1p', 'hvg'"
      ]
     },
     "execution_count": 6,
     "metadata": {},
     "output_type": "execute_result"
    }
   ],
   "source": [
    "adata"
   ]
  },
  {
   "cell_type": "markdown",
   "metadata": {},
   "source": [
    "## Dimension Reduction"
   ]
  },
  {
   "cell_type": "markdown",
   "metadata": {},
   "source": [
    "### Zifa"
   ]
  },
  {
   "cell_type": "markdown",
   "metadata": {},
   "source": [
    "ZIFA has an n_componet like as K , I still did that since I didn't know when i started"
   ]
  },
  {
   "cell_type": "code",
   "execution_count": 7,
   "metadata": {},
   "outputs": [],
   "source": [
    "# Import Libraries\n",
    "from ZIFA import ZIFA\n",
    "from ZIFA import block_ZIFA\n",
    "import numpy as np\n",
    "\n"
   ]
  },
  {
   "cell_type": "code",
   "execution_count": 8,
   "metadata": {},
   "outputs": [
    {
     "data": {
      "text/plain": [
       "(2700, 13714)"
      ]
     },
     "execution_count": 8,
     "metadata": {},
     "output_type": "execute_result"
    }
   ],
   "source": [
    "# ZIFA is designed to work with count data, so we need to make sure we're using the raw counts before normalization and log-transformation.\n",
    "# If you have stored the raw data in adata.raw, you can use that; otherwise, make sure to use the original count data.\n",
    "X_counts = adata.raw.X.toarray() if adata.raw is not None else adata.X.toarray()\n",
    "X_counts.shape"
   ]
  },
  {
   "cell_type": "markdown",
   "metadata": {},
   "source": [
    "I have tried n_genes of 30, 100 & 500\n"
   ]
  },
  {
   "cell_type": "code",
   "execution_count": 9,
   "metadata": {},
   "outputs": [
    {
     "name": "stdout",
     "output_type": "stream",
     "text": [
      "Filtering out all genes which are zero in more than 80.0% of samples. To change this, change p0_thresh.\n",
      "Running block zero-inflated factor analysis with N = 2700, D = 943, K = 10, n_blocks = 27\n",
      "Block sizes [34, 34, 34, 34, 34, 34, 34, 34, 34, 34, 34, 34, 34, 34, 34, 34, 34, 34, 34, 34, 34, 34, 34, 34, 34, 34, 59]\n"
     ]
    }
   ],
   "source": [
    "# Set the threshold for zero inflation\n",
    "p0_thresh = 0.8  # This will filter out genes that are zero in more than 80% of cells\n",
    "\n",
    "# Set the number of dimensions and blocks\n",
    "n_components = 10 # ZIFA often works better with fewer components\n",
    "\n",
    "# Set the number of genes per block to speed up the computation\n",
    "n_genes_per_block = 500  # Adjust this number based on your dataset\n",
    "\n",
    "# Calculate the number of blocks based on the new genes per block\n",
    "n_blocks = max(int(X_counts.shape[1] / n_genes_per_block), 1)  # Ensure at least one block\n",
    "\n",
    "# Fit the block ZIFA model\n",
    "Z, model_params = block_ZIFA.fitModel(X_counts, n_components, n_blocks=n_blocks, p0_thresh=p0_thresh)\n",
    "\n",
    "# The result is in Z, which we can add back to the AnnData object\n",
    "adata.obsm['X_block_zifa'] = Z\n",
    "\n"
   ]
  },
  {
   "cell_type": "code",
   "execution_count": null,
   "metadata": {},
   "outputs": [],
   "source": [
    "# Visualize the results\n",
    "# Extract the first two block_ZIFA components\n",
    "block_zifa_comp1 = adata.obsm['X_block_zifa'][:, 0]\n",
    "block_zifa_comp2 = adata.obsm['X_block_zifa'][:, 1]\n",
    "\n",
    "# Create a scatter plot of the first two block_ZIFA components\n",
    "plt.figure(figsize=(8, 6))\n",
    "plt.scatter(block_zifa_comp1, block_zifa_comp2, s=5, alpha=0.7)\n",
    "plt.title('block_ZIFA - First Two Components')\n",
    "plt.xlabel('block_ZIFA1')\n",
    "plt.ylabel('block_ZIFA2')\n",
    "plt.show()\n"
   ]
  }
 ],
 "metadata": {
  "kernelspec": {
   "display_name": "spatialomix",
   "language": "python",
   "name": "python3"
  },
  "language_info": {
   "codemirror_mode": {
    "name": "ipython",
    "version": 3
   },
   "file_extension": ".py",
   "mimetype": "text/x-python",
   "name": "python",
   "nbconvert_exporter": "python",
   "pygments_lexer": "ipython3",
   "version": "3.10.13"
  }
 },
 "nbformat": 4,
 "nbformat_minor": 2
}
