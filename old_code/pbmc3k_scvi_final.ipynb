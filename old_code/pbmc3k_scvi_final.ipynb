{
  "nbformat": 4,
  "nbformat_minor": 0,
  "metadata": {
    "colab": {
      "provenance": [],
      "gpuType": "T4"
    },
    "kernelspec": {
      "name": "python3",
      "display_name": "Python 3"
    },
    "language_info": {
      "name": "python"
    },
    "accelerator": "GPU",
    "widgets": {
      "application/vnd.jupyter.widget-state+json": {
        "4c9d67761514498ba83155bcb7733c24": {
          "model_module": "@jupyter-widgets/controls",
          "model_name": "HBoxModel",
          "model_module_version": "1.5.0",
          "state": {
            "_dom_classes": [],
            "_model_module": "@jupyter-widgets/controls",
            "_model_module_version": "1.5.0",
            "_model_name": "HBoxModel",
            "_view_count": null,
            "_view_module": "@jupyter-widgets/controls",
            "_view_module_version": "1.5.0",
            "_view_name": "HBoxView",
            "box_style": "",
            "children": [
              "IPY_MODEL_00878cf14a034ea6bd30cce56e8781ee",
              "IPY_MODEL_f1426b86314c4340b0f622ede6e4a84d",
              "IPY_MODEL_3697a50bde054d3ea45c1a1835b39715"
            ],
            "layout": "IPY_MODEL_3439c010ce21442ea143cf6e8a031b9e"
          }
        },
        "00878cf14a034ea6bd30cce56e8781ee": {
          "model_module": "@jupyter-widgets/controls",
          "model_name": "HTMLModel",
          "model_module_version": "1.5.0",
          "state": {
            "_dom_classes": [],
            "_model_module": "@jupyter-widgets/controls",
            "_model_module_version": "1.5.0",
            "_model_name": "HTMLModel",
            "_view_count": null,
            "_view_module": "@jupyter-widgets/controls",
            "_view_module_version": "1.5.0",
            "_view_name": "HTMLView",
            "description": "",
            "description_tooltip": null,
            "layout": "IPY_MODEL_976da77c6a274b31930c27ff88f71634",
            "placeholder": "​",
            "style": "IPY_MODEL_9458e7bdc1a94a4b9d8825269d269757",
            "value": "100%"
          }
        },
        "f1426b86314c4340b0f622ede6e4a84d": {
          "model_module": "@jupyter-widgets/controls",
          "model_name": "FloatProgressModel",
          "model_module_version": "1.5.0",
          "state": {
            "_dom_classes": [],
            "_model_module": "@jupyter-widgets/controls",
            "_model_module_version": "1.5.0",
            "_model_name": "FloatProgressModel",
            "_view_count": null,
            "_view_module": "@jupyter-widgets/controls",
            "_view_module_version": "1.5.0",
            "_view_name": "ProgressView",
            "bar_style": "success",
            "description": "",
            "description_tooltip": null,
            "layout": "IPY_MODEL_8988744ae0044a27b7abb069e2124d57",
            "max": 5855727,
            "min": 0,
            "orientation": "horizontal",
            "style": "IPY_MODEL_424ed8bc982f4a87a7ea0720c679e2d9",
            "value": 5855727
          }
        },
        "3697a50bde054d3ea45c1a1835b39715": {
          "model_module": "@jupyter-widgets/controls",
          "model_name": "HTMLModel",
          "model_module_version": "1.5.0",
          "state": {
            "_dom_classes": [],
            "_model_module": "@jupyter-widgets/controls",
            "_model_module_version": "1.5.0",
            "_model_name": "HTMLModel",
            "_view_count": null,
            "_view_module": "@jupyter-widgets/controls",
            "_view_module_version": "1.5.0",
            "_view_name": "HTMLView",
            "description": "",
            "description_tooltip": null,
            "layout": "IPY_MODEL_a39114568b30458eb322f5ad59d7fd7c",
            "placeholder": "​",
            "style": "IPY_MODEL_acacacb040ce407ea7e8b119e9bf98c6",
            "value": " 5.58M/5.58M [00:01&lt;00:00, 5.83MB/s]"
          }
        },
        "3439c010ce21442ea143cf6e8a031b9e": {
          "model_module": "@jupyter-widgets/base",
          "model_name": "LayoutModel",
          "model_module_version": "1.2.0",
          "state": {
            "_model_module": "@jupyter-widgets/base",
            "_model_module_version": "1.2.0",
            "_model_name": "LayoutModel",
            "_view_count": null,
            "_view_module": "@jupyter-widgets/base",
            "_view_module_version": "1.2.0",
            "_view_name": "LayoutView",
            "align_content": null,
            "align_items": null,
            "align_self": null,
            "border": null,
            "bottom": null,
            "display": null,
            "flex": null,
            "flex_flow": null,
            "grid_area": null,
            "grid_auto_columns": null,
            "grid_auto_flow": null,
            "grid_auto_rows": null,
            "grid_column": null,
            "grid_gap": null,
            "grid_row": null,
            "grid_template_areas": null,
            "grid_template_columns": null,
            "grid_template_rows": null,
            "height": null,
            "justify_content": null,
            "justify_items": null,
            "left": null,
            "margin": null,
            "max_height": null,
            "max_width": null,
            "min_height": null,
            "min_width": null,
            "object_fit": null,
            "object_position": null,
            "order": null,
            "overflow": null,
            "overflow_x": null,
            "overflow_y": null,
            "padding": null,
            "right": null,
            "top": null,
            "visibility": null,
            "width": null
          }
        },
        "976da77c6a274b31930c27ff88f71634": {
          "model_module": "@jupyter-widgets/base",
          "model_name": "LayoutModel",
          "model_module_version": "1.2.0",
          "state": {
            "_model_module": "@jupyter-widgets/base",
            "_model_module_version": "1.2.0",
            "_model_name": "LayoutModel",
            "_view_count": null,
            "_view_module": "@jupyter-widgets/base",
            "_view_module_version": "1.2.0",
            "_view_name": "LayoutView",
            "align_content": null,
            "align_items": null,
            "align_self": null,
            "border": null,
            "bottom": null,
            "display": null,
            "flex": null,
            "flex_flow": null,
            "grid_area": null,
            "grid_auto_columns": null,
            "grid_auto_flow": null,
            "grid_auto_rows": null,
            "grid_column": null,
            "grid_gap": null,
            "grid_row": null,
            "grid_template_areas": null,
            "grid_template_columns": null,
            "grid_template_rows": null,
            "height": null,
            "justify_content": null,
            "justify_items": null,
            "left": null,
            "margin": null,
            "max_height": null,
            "max_width": null,
            "min_height": null,
            "min_width": null,
            "object_fit": null,
            "object_position": null,
            "order": null,
            "overflow": null,
            "overflow_x": null,
            "overflow_y": null,
            "padding": null,
            "right": null,
            "top": null,
            "visibility": null,
            "width": null
          }
        },
        "9458e7bdc1a94a4b9d8825269d269757": {
          "model_module": "@jupyter-widgets/controls",
          "model_name": "DescriptionStyleModel",
          "model_module_version": "1.5.0",
          "state": {
            "_model_module": "@jupyter-widgets/controls",
            "_model_module_version": "1.5.0",
            "_model_name": "DescriptionStyleModel",
            "_view_count": null,
            "_view_module": "@jupyter-widgets/base",
            "_view_module_version": "1.2.0",
            "_view_name": "StyleView",
            "description_width": ""
          }
        },
        "8988744ae0044a27b7abb069e2124d57": {
          "model_module": "@jupyter-widgets/base",
          "model_name": "LayoutModel",
          "model_module_version": "1.2.0",
          "state": {
            "_model_module": "@jupyter-widgets/base",
            "_model_module_version": "1.2.0",
            "_model_name": "LayoutModel",
            "_view_count": null,
            "_view_module": "@jupyter-widgets/base",
            "_view_module_version": "1.2.0",
            "_view_name": "LayoutView",
            "align_content": null,
            "align_items": null,
            "align_self": null,
            "border": null,
            "bottom": null,
            "display": null,
            "flex": null,
            "flex_flow": null,
            "grid_area": null,
            "grid_auto_columns": null,
            "grid_auto_flow": null,
            "grid_auto_rows": null,
            "grid_column": null,
            "grid_gap": null,
            "grid_row": null,
            "grid_template_areas": null,
            "grid_template_columns": null,
            "grid_template_rows": null,
            "height": null,
            "justify_content": null,
            "justify_items": null,
            "left": null,
            "margin": null,
            "max_height": null,
            "max_width": null,
            "min_height": null,
            "min_width": null,
            "object_fit": null,
            "object_position": null,
            "order": null,
            "overflow": null,
            "overflow_x": null,
            "overflow_y": null,
            "padding": null,
            "right": null,
            "top": null,
            "visibility": null,
            "width": null
          }
        },
        "424ed8bc982f4a87a7ea0720c679e2d9": {
          "model_module": "@jupyter-widgets/controls",
          "model_name": "ProgressStyleModel",
          "model_module_version": "1.5.0",
          "state": {
            "_model_module": "@jupyter-widgets/controls",
            "_model_module_version": "1.5.0",
            "_model_name": "ProgressStyleModel",
            "_view_count": null,
            "_view_module": "@jupyter-widgets/base",
            "_view_module_version": "1.2.0",
            "_view_name": "StyleView",
            "bar_color": null,
            "description_width": ""
          }
        },
        "a39114568b30458eb322f5ad59d7fd7c": {
          "model_module": "@jupyter-widgets/base",
          "model_name": "LayoutModel",
          "model_module_version": "1.2.0",
          "state": {
            "_model_module": "@jupyter-widgets/base",
            "_model_module_version": "1.2.0",
            "_model_name": "LayoutModel",
            "_view_count": null,
            "_view_module": "@jupyter-widgets/base",
            "_view_module_version": "1.2.0",
            "_view_name": "LayoutView",
            "align_content": null,
            "align_items": null,
            "align_self": null,
            "border": null,
            "bottom": null,
            "display": null,
            "flex": null,
            "flex_flow": null,
            "grid_area": null,
            "grid_auto_columns": null,
            "grid_auto_flow": null,
            "grid_auto_rows": null,
            "grid_column": null,
            "grid_gap": null,
            "grid_row": null,
            "grid_template_areas": null,
            "grid_template_columns": null,
            "grid_template_rows": null,
            "height": null,
            "justify_content": null,
            "justify_items": null,
            "left": null,
            "margin": null,
            "max_height": null,
            "max_width": null,
            "min_height": null,
            "min_width": null,
            "object_fit": null,
            "object_position": null,
            "order": null,
            "overflow": null,
            "overflow_x": null,
            "overflow_y": null,
            "padding": null,
            "right": null,
            "top": null,
            "visibility": null,
            "width": null
          }
        },
        "acacacb040ce407ea7e8b119e9bf98c6": {
          "model_module": "@jupyter-widgets/controls",
          "model_name": "DescriptionStyleModel",
          "model_module_version": "1.5.0",
          "state": {
            "_model_module": "@jupyter-widgets/controls",
            "_model_module_version": "1.5.0",
            "_model_name": "DescriptionStyleModel",
            "_view_count": null,
            "_view_module": "@jupyter-widgets/base",
            "_view_module_version": "1.2.0",
            "_view_name": "StyleView",
            "description_width": ""
          }
        }
      }
    }
  },
  "cells": [
    {
      "cell_type": "code",
      "execution_count": null,
      "metadata": {
        "colab": {
          "base_uri": "https://localhost:8080/"
        },
        "id": "K5KCuzYiuqXW",
        "outputId": "a6f1e989-cb3c-4b79-a0a1-8f83af067074"
      },
      "outputs": [
        {
          "output_type": "stream",
          "name": "stdout",
          "text": [
            "\u001b[34mINFO    \u001b[0m scvi-colab: Installing scvi-tools.                                                                        \n",
            "\u001b[34mINFO    \u001b[0m scvi-colab: Install successful. Testing import.                                                           \n"
          ]
        },
        {
          "output_type": "stream",
          "name": "stderr",
          "text": [
            "/usr/local/lib/python3.10/dist-packages/scvi/_settings.py:63: UserWarning: Since v1.0.0, scvi-tools no longer uses a random seed by default. Run `scvi.settings.seed = 0` to reproduce results from previous versions.\n",
            "  self.seed = seed\n",
            "/usr/local/lib/python3.10/dist-packages/scvi/_settings.py:70: UserWarning: Setting `dl_pin_memory_gpu_training` is deprecated in v1.0 and will be removed in v1.1. Please pass in `pin_memory` to the data loaders instead.\n",
            "  self.dl_pin_memory_gpu_training = (\n"
          ]
        }
      ],
      "source": [
        "!pip install --quiet scvi-colab\n",
        "from scvi_colab import install\n",
        "\n",
        "install()"
      ]
    },
    {
      "cell_type": "code",
      "source": [
        "import os\n",
        "import tempfile\n",
        "\n",
        "import anndata\n",
        "import numpy as np\n",
        "import pooch\n",
        "import scanpy as sc\n",
        "import scvi\n",
        "import torch"
      ],
      "metadata": {
        "id": "61_bkkMvuwzs"
      },
      "execution_count": null,
      "outputs": []
    },
    {
      "cell_type": "code",
      "source": [
        "sc.settings.verbosity = 3             # verbosity: errors (0), warnings (1), info (2), hints (3)\n",
        "sc.logging.print_header()\n",
        "sc.settings.set_figure_params(dpi=80, facecolor='white')"
      ],
      "metadata": {
        "id": "JSd9_Ffzu7Jn",
        "colab": {
          "base_uri": "https://localhost:8080/"
        },
        "outputId": "72d4e0ec-3489-4741-d425-4d08ff6f2b50"
      },
      "execution_count": null,
      "outputs": [
        {
          "output_type": "stream",
          "name": "stdout",
          "text": [
            "scanpy==1.9.6 anndata==0.10.3 umap==0.5.5 numpy==1.23.5 scipy==1.11.4 pandas==1.5.3 scikit-learn==1.2.2 statsmodels==0.14.1 igraph==0.10.8 pynndescent==0.5.11\n"
          ]
        }
      ]
    },
    {
      "cell_type": "code",
      "source": [
        "results_file = 'pbmc3k.h5ad'  # the file that will store the analysis results"
      ],
      "metadata": {
        "id": "xpejWfj6wXUr"
      },
      "execution_count": null,
      "outputs": []
    },
    {
      "cell_type": "code",
      "source": [
        "save_dir = tempfile.TemporaryDirectory()\n",
        "pbmc3k_path = os.path.join(save_dir.name, \"pbmc3k.h5ad\")\n",
        "\n",
        "adata = sc.read(\n",
        "    filename=pbmc3k_path, backup_url=\"http://falexwolf.de/data/pbmc3k_raw.h5ad\"\n",
        ")\n",
        "adata"
      ],
      "metadata": {
        "id": "oTZWzayGwZvp",
        "colab": {
          "base_uri": "https://localhost:8080/",
          "height": 190,
          "referenced_widgets": [
            "4c9d67761514498ba83155bcb7733c24",
            "00878cf14a034ea6bd30cce56e8781ee",
            "f1426b86314c4340b0f622ede6e4a84d",
            "3697a50bde054d3ea45c1a1835b39715",
            "3439c010ce21442ea143cf6e8a031b9e",
            "976da77c6a274b31930c27ff88f71634",
            "9458e7bdc1a94a4b9d8825269d269757",
            "8988744ae0044a27b7abb069e2124d57",
            "424ed8bc982f4a87a7ea0720c679e2d9",
            "a39114568b30458eb322f5ad59d7fd7c",
            "acacacb040ce407ea7e8b119e9bf98c6"
          ]
        },
        "outputId": "3560e82a-bdb7-4f95-e67d-22a914804873"
      },
      "execution_count": null,
      "outputs": [
        {
          "output_type": "stream",
          "name": "stdout",
          "text": [
            "try downloading from url\n",
            "http://falexwolf.de/data/pbmc3k_raw.h5ad\n",
            "... this may take a while but only happens once\n"
          ]
        },
        {
          "output_type": "display_data",
          "data": {
            "text/plain": [
              "  0%|          | 0.00/5.58M [00:00<?, ?B/s]"
            ],
            "application/vnd.jupyter.widget-view+json": {
              "version_major": 2,
              "version_minor": 0,
              "model_id": "4c9d67761514498ba83155bcb7733c24"
            }
          },
          "metadata": {}
        },
        {
          "output_type": "stream",
          "name": "stderr",
          "text": [
            "/usr/local/lib/python3.10/dist-packages/anndata/__init__.py:51: FutureWarning: `anndata.read` is deprecated, use `anndata.read_h5ad` instead. `ad.read` will be removed in mid 2024.\n",
            "  warnings.warn(\n"
          ]
        },
        {
          "output_type": "execute_result",
          "data": {
            "text/plain": [
              "AnnData object with n_obs × n_vars = 2700 × 32738\n",
              "    var: 'gene_ids'"
            ]
          },
          "metadata": {},
          "execution_count": 5
        }
      ]
    },
    {
      "cell_type": "code",
      "source": [
        "adata.var_names_make_unique()  # this is unnecessary if using `var_names='gene_ids'` in `sc.read_10x_mtx`"
      ],
      "metadata": {
        "id": "yprIlcW2we0T"
      },
      "execution_count": null,
      "outputs": []
    },
    {
      "cell_type": "code",
      "source": [
        "adata"
      ],
      "metadata": {
        "id": "kFYgRX-nw1YJ",
        "colab": {
          "base_uri": "https://localhost:8080/"
        },
        "outputId": "7b36c163-c668-490d-db8f-0c05c08dcabc"
      },
      "execution_count": null,
      "outputs": [
        {
          "output_type": "execute_result",
          "data": {
            "text/plain": [
              "AnnData object with n_obs × n_vars = 2700 × 32738\n",
              "    var: 'gene_ids'"
            ]
          },
          "metadata": {},
          "execution_count": 7
        }
      ]
    },
    {
      "cell_type": "code",
      "source": [
        "print(\"# cells, # genes before filtering:\", adata.shape)\n",
        "\n",
        "sc.pp.filter_cells(adata, min_genes=200)\n",
        "sc.pp.filter_genes(adata, min_cells=3)\n",
        "\n",
        "print(\"# cells, # genes after filtering:\", adata.shape)"
      ],
      "metadata": {
        "id": "IkVVmVSsVb0T",
        "colab": {
          "base_uri": "https://localhost:8080/"
        },
        "outputId": "c82d445f-3ae2-4fde-ede5-544a9452b1a6"
      },
      "execution_count": null,
      "outputs": [
        {
          "output_type": "stream",
          "name": "stdout",
          "text": [
            "# cells, # genes before filtering: (2700, 32738)\n",
            "filtered out 19024 genes that are detected in less than 3 cells\n",
            "# cells, # genes after filtering: (2700, 13714)\n"
          ]
        }
      ]
    },
    {
      "cell_type": "code",
      "source": [
        "adata.var['mt'] = adata.var_names.str.startswith('MT-')  # annotate the group of mitochondrial genes as 'mt'\n",
        "sc.pp.calculate_qc_metrics(adata, qc_vars=['mt'], percent_top=None, log1p=False, inplace=True)"
      ],
      "metadata": {
        "id": "Cmq2ngAJQOOo"
      },
      "execution_count": null,
      "outputs": []
    },
    {
      "cell_type": "code",
      "source": [
        "adata = adata[adata.obs.n_genes_by_counts < 2500, :]\n",
        "adata = adata[adata.obs.pct_counts_mt < 5, :]"
      ],
      "metadata": {
        "id": "JF-Plu4SP8f5"
      },
      "execution_count": null,
      "outputs": []
    },
    {
      "cell_type": "code",
      "source": [
        "adata.X.shape"
      ],
      "metadata": {
        "id": "jS84AznvRdju",
        "colab": {
          "base_uri": "https://localhost:8080/"
        },
        "outputId": "6f6917f8-e5d4-42d6-d060-791d0c681f1e"
      },
      "execution_count": null,
      "outputs": [
        {
          "output_type": "execute_result",
          "data": {
            "text/plain": [
              "(2638, 13714)"
            ]
          },
          "metadata": {},
          "execution_count": 11
        }
      ]
    },
    {
      "cell_type": "code",
      "source": [
        "adata.layers[\"counts\"] = adata.X.copy()"
      ],
      "metadata": {
        "id": "seXVTuXlRbhL",
        "colab": {
          "base_uri": "https://localhost:8080/"
        },
        "outputId": "733701b0-ca75-41b9-ad88-b17835b0badd"
      },
      "execution_count": null,
      "outputs": [
        {
          "output_type": "stream",
          "name": "stderr",
          "text": [
            "<ipython-input-12-e21b7d19eb9e>:1: ImplicitModificationWarning: Setting element `.layers['counts']` of view, initializing view as actual.\n",
            "  adata.layers[\"counts\"] = adata.X.copy()\n"
          ]
        }
      ]
    },
    {
      "cell_type": "markdown",
      "source": [
        "Stop here if you just want the latent space. Jump to vae section in the bottom."
      ],
      "metadata": {
        "id": "HkBbNZSVsole"
      }
    },
    {
      "cell_type": "code",
      "source": [
        "sc.pp.normalize_total(adata, target_sum=1e4)\n",
        "sc.pp.log1p(adata)"
      ],
      "metadata": {
        "id": "P6NWb7ojVb2l"
      },
      "execution_count": null,
      "outputs": []
    },
    {
      "cell_type": "code",
      "source": [
        "sc.pp.highly_variable_genes(adata, min_mean=0.0125, max_mean=3, min_disp=0.5)"
      ],
      "metadata": {
        "id": "Lx3wQEiXQCbQ"
      },
      "execution_count": null,
      "outputs": []
    },
    {
      "cell_type": "code",
      "source": [
        "adata.raw = adata"
      ],
      "metadata": {
        "id": "1SxkptCuxns2"
      },
      "execution_count": null,
      "outputs": []
    },
    {
      "cell_type": "code",
      "source": [
        "adata = adata[:, adata.var.highly_variable]\n",
        "sc.pp.regress_out(adata, ['total_counts', 'pct_counts_mt'])\n",
        "sc.pp.scale(adata, max_value=10)"
      ],
      "metadata": {
        "id": "bktqyfC6xMw9"
      },
      "execution_count": null,
      "outputs": []
    },
    {
      "cell_type": "code",
      "source": [
        "sc.tl.pca(adata, svd_solver='arpack')"
      ],
      "metadata": {
        "id": "d_O57NXSxBJC"
      },
      "execution_count": null,
      "outputs": []
    },
    {
      "cell_type": "code",
      "source": [
        "sc.pl.pca(adata, color='CST3')"
      ],
      "metadata": {
        "id": "qtKUnQHbxBmk"
      },
      "execution_count": null,
      "outputs": []
    },
    {
      "cell_type": "code",
      "source": [
        "sc.pl.pca_variance_ratio(adata, log=True)"
      ],
      "metadata": {
        "id": "AhhjLLWUxD5C"
      },
      "execution_count": null,
      "outputs": []
    },
    {
      "cell_type": "code",
      "source": [
        "adata.write(results_file)"
      ],
      "metadata": {
        "id": "-lfkiEyiy-l4"
      },
      "execution_count": null,
      "outputs": []
    },
    {
      "cell_type": "code",
      "source": [
        "adata"
      ],
      "metadata": {
        "id": "S2SfDKTDzAug"
      },
      "execution_count": null,
      "outputs": []
    },
    {
      "cell_type": "code",
      "source": [
        "sc.pp.neighbors(adata, n_neighbors=10, n_pcs=40)"
      ],
      "metadata": {
        "id": "PB9yBMdezY5I"
      },
      "execution_count": null,
      "outputs": []
    },
    {
      "cell_type": "code",
      "source": [
        "sc.tl.umap(adata)"
      ],
      "metadata": {
        "id": "c1iZrmmczim4"
      },
      "execution_count": null,
      "outputs": []
    },
    {
      "cell_type": "code",
      "source": [
        "sc.pl.umap(adata, color=['CST3', 'NKG7', 'PPBP'])"
      ],
      "metadata": {
        "id": "Bx_Ch_nyzm12"
      },
      "execution_count": null,
      "outputs": []
    },
    {
      "cell_type": "code",
      "source": [
        "sc.tl.leiden(adata)"
      ],
      "metadata": {
        "id": "ph1cJKwjz253"
      },
      "execution_count": null,
      "outputs": []
    },
    {
      "cell_type": "code",
      "source": [
        "sc.pl.umap(adata, color=['leiden', 'CST3', 'NKG7'])"
      ],
      "metadata": {
        "id": "eqdTs36hz9Qx"
      },
      "execution_count": null,
      "outputs": []
    },
    {
      "cell_type": "code",
      "source": [
        "adata.write(results_file)"
      ],
      "metadata": {
        "id": "ou5bXHJFz-z8"
      },
      "execution_count": null,
      "outputs": []
    },
    {
      "cell_type": "code",
      "source": [
        "sc.tl.rank_genes_groups(adata, 'leiden', method='t-test')"
      ],
      "metadata": {
        "id": "7hKCQ7Rf0FqZ"
      },
      "execution_count": null,
      "outputs": []
    },
    {
      "cell_type": "code",
      "source": [
        "sc.settings.verbosity = 2  # reduce the verbosity"
      ],
      "metadata": {
        "id": "xKFPx75F0rA7"
      },
      "execution_count": null,
      "outputs": []
    },
    {
      "cell_type": "code",
      "source": [
        "sc.tl.rank_genes_groups(adata, 'leiden', method='wilcoxon')"
      ],
      "metadata": {
        "id": "P6Y_ugXb0s-9"
      },
      "execution_count": null,
      "outputs": []
    },
    {
      "cell_type": "code",
      "source": [
        "adata.write(results_file)"
      ],
      "metadata": {
        "id": "7O46pfm50ueR"
      },
      "execution_count": null,
      "outputs": []
    },
    {
      "cell_type": "code",
      "source": [
        "sc.tl.rank_genes_groups(adata, 'leiden', method='logreg')"
      ],
      "metadata": {
        "id": "AXv3_V7m0v0W"
      },
      "execution_count": null,
      "outputs": []
    },
    {
      "cell_type": "code",
      "source": [
        "marker_genes = ['IL7R', 'CD79A', 'MS4A1', 'CD8A', 'CD8B', 'LYZ', 'CD14',\n",
        "                'LGALS3', 'S100A8', 'GNLY', 'NKG7', 'KLRB1',\n",
        "                'FCGR3A', 'MS4A7', 'FCER1A', 'CST3', 'PPBP']"
      ],
      "metadata": {
        "id": "70X-vKYL0xRX"
      },
      "execution_count": null,
      "outputs": []
    },
    {
      "cell_type": "code",
      "source": [
        "adata = sc.read(results_file)"
      ],
      "metadata": {
        "id": "5H9bwtWf0zv_"
      },
      "execution_count": null,
      "outputs": []
    },
    {
      "cell_type": "code",
      "source": [
        "import pandas as pd\n",
        "\n",
        "result = adata.uns['rank_genes_groups']\n",
        "groups = result['names'].dtype.names\n",
        "pd.DataFrame(\n",
        "    {group + '_' + key[:1]: result[key][group]\n",
        "    for group in groups for key in ['names', 'pvals']}).head(5)"
      ],
      "metadata": {
        "id": "uJY_D6_601p4"
      },
      "execution_count": null,
      "outputs": []
    },
    {
      "cell_type": "code",
      "source": [
        "sc.tl.rank_genes_groups(adata, 'leiden', groups=['0'], reference='1', method='wilcoxon')"
      ],
      "metadata": {
        "id": "q3wAbRja03k6"
      },
      "execution_count": null,
      "outputs": []
    },
    {
      "cell_type": "code",
      "source": [
        "new_cluster_names = [\n",
        "    'CD4 T', 'CD14 Monocytes',\n",
        "    'B', 'CD8 T',\n",
        "    'NK', 'FCGR3A Monocytes',\n",
        "    'Dendritic', 'Megakaryocytes']\n",
        "adata.rename_categories('leiden', new_cluster_names)"
      ],
      "metadata": {
        "id": "c8kc6UBu1DGl"
      },
      "execution_count": null,
      "outputs": []
    },
    {
      "cell_type": "code",
      "source": [
        "sc.pl.umap(adata, color='leiden', legend_loc='on data', title='', frameon=False, save='.pdf')"
      ],
      "metadata": {
        "id": "KdT6E1LR1FCq"
      },
      "execution_count": null,
      "outputs": []
    },
    {
      "cell_type": "code",
      "source": [
        "sc.pl.dotplot(adata, marker_genes, groupby='leiden');\n"
      ],
      "metadata": {
        "id": "c6LT5ir61Gbn"
      },
      "execution_count": null,
      "outputs": []
    },
    {
      "cell_type": "code",
      "source": [
        "umap_coordinates = adata.obsm['X_umap']"
      ],
      "metadata": {
        "id": "m8IAfaFw1hlE"
      },
      "execution_count": null,
      "outputs": []
    },
    {
      "cell_type": "code",
      "source": [
        "# Create a DataFrame with two columns for UMAP dimensions\n",
        "umap_df = pd.DataFrame(umap_coordinates, columns=['UMAP_1', 'UMAP_2'])\n",
        "\n",
        "# Save to CSV\n",
        "umap_df.to_csv('scvi_umap_coordinates.csv', index=False)"
      ],
      "metadata": {
        "id": "cmIK1MeQ1yf2"
      },
      "execution_count": null,
      "outputs": []
    },
    {
      "cell_type": "code",
      "source": [],
      "metadata": {
        "id": "06GrfDIU3jPt"
      },
      "execution_count": null,
      "outputs": []
    },
    {
      "cell_type": "markdown",
      "source": [
        "Here is the VAE code"
      ],
      "metadata": {
        "id": "nhqrPsNfM-vQ"
      }
    },
    {
      "cell_type": "code",
      "source": [
        "#adata.layers[\"counts\"] = adata.X.copy() this should be done early on"
      ],
      "metadata": {
        "id": "_1Hhz6s_NRpq"
      },
      "execution_count": null,
      "outputs": []
    },
    {
      "cell_type": "code",
      "source": [
        "print(adata.shape)  # Shape of the filtered AnnData object\n",
        "print(adata.layers[\"counts\"].shape)  # Shape of the counts layer"
      ],
      "metadata": {
        "id": "55gNuEKCNEBv"
      },
      "execution_count": null,
      "outputs": []
    },
    {
      "cell_type": "code",
      "source": [
        "sc.pp.highly_variable_genes(adata, n_top_genes=2500, subset=True, layer=\"counts\", flavor=\"seurat_v3\")"
      ],
      "metadata": {
        "id": "1ft1Lnj4NWwX"
      },
      "execution_count": null,
      "outputs": []
    },
    {
      "cell_type": "code",
      "source": [
        "print(adata.shape)  # Shape of the filtered AnnData object\n",
        "print(adata.layers[\"counts\"].shape)  # Shape of the counts layer"
      ],
      "metadata": {
        "id": "c_rG3wkwyIjJ"
      },
      "execution_count": null,
      "outputs": []
    },
    {
      "cell_type": "code",
      "source": [
        "#LDVAE\n",
        "scvi.model.LinearSCVI.setup_anndata(adata, layer=\"counts\")\n",
        "model = scvi.model.LinearSCVI(adata, n_latent=10)\n"
      ],
      "metadata": {
        "id": "F271j4zqTqof"
      },
      "execution_count": null,
      "outputs": []
    },
    {
      "cell_type": "code",
      "source": [
        "model"
      ],
      "metadata": {
        "id": "XDhru1A-Tkat"
      },
      "execution_count": null,
      "outputs": []
    },
    {
      "cell_type": "code",
      "source": [
        "model.train(max_epochs=250, plan_kwargs={\"lr\": 5e-3}, check_val_every_n_epoch=10)"
      ],
      "metadata": {
        "id": "JMBXFH1jTlyN"
      },
      "execution_count": null,
      "outputs": []
    },
    {
      "cell_type": "code",
      "source": [
        "train_elbo = model.history[\"elbo_train\"][1:]\n",
        "test_elbo = model.history[\"elbo_validation\"]\n",
        "\n",
        "ax = train_elbo.plot()\n",
        "test_elbo.plot(ax=ax)"
      ],
      "metadata": {
        "id": "FdtgS8-9OqNw"
      },
      "execution_count": null,
      "outputs": []
    },
    {
      "cell_type": "code",
      "source": [
        "latent = model.get_latent_representation()\n",
        "latent"
      ],
      "metadata": {
        "id": "iL3yZqtNOyiv"
      },
      "execution_count": null,
      "outputs": []
    },
    {
      "cell_type": "code",
      "source": [
        "latent.shape"
      ],
      "metadata": {
        "id": "XJ_JFs_nOylI"
      },
      "execution_count": null,
      "outputs": []
    },
    {
      "cell_type": "code",
      "source": [
        "np.savetxt('latent_2638_2000_10dims_ldvae.txt', latent, delimiter=',')"
      ],
      "metadata": {
        "id": "nn6KMdF1Oys5"
      },
      "execution_count": null,
      "outputs": []
    },
    {
      "cell_type": "code",
      "source": [],
      "metadata": {
        "id": "moOJnwS0O8XN"
      },
      "execution_count": null,
      "outputs": []
    },
    {
      "cell_type": "code",
      "source": [
        "#original scvi VAE\n",
        "scvi.model.SCVI.setup_anndata(adata, layer=\"counts\")\n",
        "model = scvi.model.SCVI(adata, n_latent=10, latent_distribution = 'ln')"
      ],
      "metadata": {
        "colab": {
          "base_uri": "https://localhost:8080/"
        },
        "id": "enzxLWAMO8Zb",
        "outputId": "e20d5f92-f7c1-4a79-ed76-1cff12f72145"
      },
      "execution_count": null,
      "outputs": [
        {
          "output_type": "stream",
          "name": "stderr",
          "text": [
            "/usr/lib/python3.10/abc.py:119: FutureWarning: SparseDataset is deprecated and will be removed in late 2024. It has been replaced by the public classes CSRDataset and CSCDataset.\n",
            "\n",
            "For instance checks, use `isinstance(X, (anndata.experimental.CSRDataset, anndata.experimental.CSCDataset))` instead.\n",
            "\n",
            "For creation, use `anndata.experimental.sparse_dataset(X)` instead.\n",
            "\n",
            "  return _abc_instancecheck(cls, instance)\n",
            "WARNING:jax._src.xla_bridge:CUDA backend failed to initialize: Found CUDA version 12010, but JAX was built against version 12020, which is newer. The copy of CUDA that is installed must be at least as new as the version against which JAX was built. (Set TF_CPP_MIN_LOG_LEVEL=0 and rerun for more info.)\n"
          ]
        }
      ]
    },
    {
      "cell_type": "code",
      "source": [
        "model.train()"
      ],
      "metadata": {
        "colab": {
          "base_uri": "https://localhost:8080/"
        },
        "id": "bxMTTi3eQe-e",
        "outputId": "2a31c4e8-0b76-47a5-ec1d-67a2ba2cf51a"
      },
      "execution_count": null,
      "outputs": [
        {
          "output_type": "stream",
          "name": "stderr",
          "text": [
            "INFO: GPU available: True (cuda), used: True\n",
            "INFO:lightning.pytorch.utilities.rank_zero:GPU available: True (cuda), used: True\n",
            "INFO: TPU available: False, using: 0 TPU cores\n",
            "INFO:lightning.pytorch.utilities.rank_zero:TPU available: False, using: 0 TPU cores\n",
            "INFO: IPU available: False, using: 0 IPUs\n",
            "INFO:lightning.pytorch.utilities.rank_zero:IPU available: False, using: 0 IPUs\n",
            "INFO: HPU available: False, using: 0 HPUs\n",
            "INFO:lightning.pytorch.utilities.rank_zero:HPU available: False, using: 0 HPUs\n",
            "INFO: LOCAL_RANK: 0 - CUDA_VISIBLE_DEVICES: [0]\n",
            "INFO:lightning.pytorch.accelerators.cuda:LOCAL_RANK: 0 - CUDA_VISIBLE_DEVICES: [0]\n"
          ]
        },
        {
          "output_type": "stream",
          "name": "stdout",
          "text": [
            "Epoch 1/400:   0%|          | 0/400 [00:00<?, ?it/s]"
          ]
        },
        {
          "output_type": "stream",
          "name": "stderr",
          "text": [
            "/usr/lib/python3.10/abc.py:119: FutureWarning: SparseDataset is deprecated and will be removed in late 2024. It has been replaced by the public classes CSRDataset and CSCDataset.\n",
            "\n",
            "For instance checks, use `isinstance(X, (anndata.experimental.CSRDataset, anndata.experimental.CSCDataset))` instead.\n",
            "\n",
            "For creation, use `anndata.experimental.sparse_dataset(X)` instead.\n",
            "\n",
            "  return _abc_instancecheck(cls, instance)\n"
          ]
        },
        {
          "output_type": "stream",
          "name": "stdout",
          "text": [
            "Epoch 400/400: 100%|██████████| 400/400 [02:10<00:00,  3.09it/s, v_num=1, train_loss_step=2.6e+3, train_loss_epoch=2.62e+3] "
          ]
        },
        {
          "output_type": "stream",
          "name": "stderr",
          "text": [
            "INFO: `Trainer.fit` stopped: `max_epochs=400` reached.\n",
            "INFO:lightning.pytorch.utilities.rank_zero:`Trainer.fit` stopped: `max_epochs=400` reached.\n"
          ]
        },
        {
          "output_type": "stream",
          "name": "stdout",
          "text": [
            "\rEpoch 400/400: 100%|██████████| 400/400 [02:10<00:00,  3.07it/s, v_num=1, train_loss_step=2.6e+3, train_loss_epoch=2.62e+3]\n"
          ]
        }
      ]
    },
    {
      "cell_type": "code",
      "source": [
        "latent = model.get_latent_representation()\n",
        "latent"
      ],
      "metadata": {
        "id": "QYhFCsybNgZ2",
        "colab": {
          "base_uri": "https://localhost:8080/"
        },
        "outputId": "9e0ab44b-647a-4fd5-8079-b5e666f501cf"
      },
      "execution_count": null,
      "outputs": [
        {
          "output_type": "execute_result",
          "data": {
            "text/plain": [
              "array([[0.21357621, 0.06277096, 0.03452352, ..., 0.16538258, 0.17626606,\n",
              "        0.11067791],\n",
              "       [0.03515379, 0.02011582, 0.30952695, ..., 0.06084454, 0.10527752,\n",
              "        0.16212517],\n",
              "       [0.23809119, 0.07268856, 0.02618762, ..., 0.07328481, 0.01974704,\n",
              "        0.1522372 ],\n",
              "       ...,\n",
              "       [0.02604654, 0.024365  , 0.5081505 , ..., 0.06300871, 0.07577714,\n",
              "        0.00710242],\n",
              "       [0.0152922 , 0.03857032, 0.41260293, ..., 0.0409593 , 0.08056565,\n",
              "        0.01223901],\n",
              "       [0.43467793, 0.02100408, 0.01527426, ..., 0.04251003, 0.09592447,\n",
              "        0.10983095]], dtype=float32)"
            ]
          },
          "metadata": {},
          "execution_count": 15
        }
      ]
    },
    {
      "cell_type": "code",
      "source": [
        "np.savetxt('latent_2638_2000_10dims_lognormal.txt', latent, delimiter=',')"
      ],
      "metadata": {
        "id": "N_x4pH8oNgsY"
      },
      "execution_count": null,
      "outputs": []
    },
    {
      "cell_type": "code",
      "source": [],
      "metadata": {
        "id": "Ycy4_2j1Us_3"
      },
      "execution_count": null,
      "outputs": []
    }
  ]
}