{
 "cells": [
  {
   "cell_type": "code",
   "execution_count": 15,
   "metadata": {},
   "outputs": [
    {
     "name": "stdout",
     "output_type": "stream",
     "text": [
      "scanpy==1.7.2 anndata==0.7.8 numpy==1.19.5 scipy==1.5.4 pandas==1.1.5 scikit-learn==0.24.2 statsmodels==0.12.2\n"
     ]
    }
   ],
   "source": [
    "# Import Libraries\n",
    "import os\n",
    "import sys\n",
    "\n",
    "import numpy as np\n",
    "import pandas as pd\n",
    "import matplotlib.pyplot as plt\n",
    "\n",
    "# Bioinformatics Libraries\n",
    "import scanpy as sc\n",
    "\n",
    "# Ignore warnings\n",
    "import warnings\n",
    "warnings.filterwarnings('ignore')\n",
    "\n",
    "# Scapy Settings\n",
    "sc.settings.verbosity = 3             # verbosity: errors (0), warnings (1), info (2), hints (3)\n",
    "sc.logging.print_header()\n",
    "sc.settings.set_figure_params(dpi=80, facecolor='white')"
   ]
  },
  {
   "cell_type": "code",
   "execution_count": 16,
   "metadata": {},
   "outputs": [
    {
     "name": "stderr",
     "output_type": "stream",
     "text": [
      "... reading from cache file cache\\example-data-filtered_gene_bc_matrices-hg19-matrix.h5ad\n"
     ]
    }
   ],
   "source": [
    "# Load the pbmc3k dataset\n",
    "sc.datasets.pbmc3k()\n",
    "adata = sc.read_10x_mtx(\n",
    "    # the directory with the `.mtx` file\n",
    "    './example/data/filtered_gene_bc_matrices/hg19/',\n",
    "    # use gene symbols for the variable names (variables-axis index)\n",
    "    var_names='gene_symbols',\n",
    "    # write a cache file for faster subsequent reading\n",
    "    cache=True,\n",
    ")\n"
   ]
  },
  {
   "cell_type": "markdown",
   "metadata": {},
   "source": [
    "\n",
    "### scPhere\n",
    "\n",
    "it has its own data input and doesn't use adata from scanpy"
   ]
  },
  {
   "cell_type": "code",
   "execution_count": 17,
   "metadata": {},
   "outputs": [
    {
     "name": "stdout",
     "output_type": "stream",
     "text": [
      "(2700, 32738)\n",
      "<class 'numpy.ndarray'>\n"
     ]
    }
   ],
   "source": [
    "adata = sc.read_mtx('./example/data/filtered_gene_bc_matrices/hg19/matrix.mtx')\n",
    "\n",
    "# Access sparse matrix \n",
    "x = adata.X \n",
    "\n",
    "# Convert to dense matrix\n",
    "x = x.toarray() \n",
    "\n",
    "# Transpose\n",
    "x = x.T\n",
    "\n",
    "print(x.shape)\n",
    "print(type(x))"
   ]
  },
  {
   "cell_type": "code",
   "execution_count": null,
   "metadata": {},
   "outputs": [],
   "source": []
  },
  {
   "cell_type": "code",
   "execution_count": 18,
   "metadata": {},
   "outputs": [],
   "source": [
    "from scphere.util.util import read_mtx\n",
    "from scphere.util.trainer import Trainer\n",
    "from scphere.model.vae import SCPHERE\n",
    "from scphere.util.plot import plot_trace"
   ]
  },
  {
   "cell_type": "code",
   "execution_count": 19,
   "metadata": {},
   "outputs": [],
   "source": [
    "# If no batch information is available\n",
    "n_samples = x.shape[0]\n",
    "batch = np.zeros(n_samples)  # Artificial batch vector"
   ]
  },
  {
   "cell_type": "code",
   "execution_count": 20,
   "metadata": {},
   "outputs": [
    {
     "name": "stdout",
     "output_type": "stream",
     "text": [
      "0 / 5250 {'Log-likelihood': -7914.368, 'ELBO': -7914.505, 'KL': 0.13691393}\n",
      "50 / 5250 {'Log-likelihood': -4183.4756, 'ELBO': -4186.1235, 'KL': 2.6481333}\n",
      "100 / 5250 {'Log-likelihood': -3047.1614, 'ELBO': -3052.1748, 'KL': 5.013499}\n",
      "150 / 5250 {'Log-likelihood': -2926.1875, 'ELBO': -2932.204, 'KL': 6.0167093}\n",
      "200 / 5250 {'Log-likelihood': -2958.6914, 'ELBO': -2965.3037, 'KL': 6.612221}\n",
      "250 / 5250 {'Log-likelihood': -2919.746, 'ELBO': -2926.6814, 'KL': 6.93522}\n",
      "300 / 5250 {'Log-likelihood': -2935.9453, 'ELBO': -2943.0823, 'KL': 7.1368594}\n",
      "350 / 5250 {'Log-likelihood': -2973.369, 'ELBO': -2980.6719, 'KL': 7.3030915}\n",
      "400 / 5250 {'Log-likelihood': -2943.6162, 'ELBO': -2951.0073, 'KL': 7.391115}\n",
      "450 / 5250 {'Log-likelihood': -2898.3071, 'ELBO': -2905.7507, 'KL': 7.443553}\n",
      "500 / 5250 {'Log-likelihood': -2953.1636, 'ELBO': -2960.6296, 'KL': 7.4660363}\n",
      "550 / 5250 {'Log-likelihood': -2921.6628, 'ELBO': -2929.1375, 'KL': 7.474721}\n",
      "600 / 5250 {'Log-likelihood': -2861.8652, 'ELBO': -2869.346, 'KL': 7.4807835}\n",
      "650 / 5250 {'Log-likelihood': -2841.8047, 'ELBO': -2849.1802, 'KL': 7.3753834}\n",
      "700 / 5250 {'Log-likelihood': -2903.114, 'ELBO': -2910.4512, 'KL': 7.337199}\n",
      "750 / 5250 {'Log-likelihood': -2833.3472, 'ELBO': -2840.6514, 'KL': 7.304286}\n",
      "800 / 5250 {'Log-likelihood': -2934.6943, 'ELBO': -2941.894, 'KL': 7.1997843}\n",
      "850 / 5250 {'Log-likelihood': -2934.4678, 'ELBO': -2941.5574, 'KL': 7.0896664}\n",
      "900 / 5250 {'Log-likelihood': -3051.9556, 'ELBO': -3058.9258, 'KL': 6.9702563}\n",
      "950 / 5250 {'Log-likelihood': -2984.6208, 'ELBO': -2991.4353, 'KL': 6.814427}\n",
      "1000 / 5250 {'Log-likelihood': -2794.4634, 'ELBO': -2801.3516, 'KL': 6.8882666}\n",
      "1050 / 5250 {'Log-likelihood': -2844.6191, 'ELBO': -2851.6865, 'KL': 7.0674405}\n",
      "1100 / 5250 {'Log-likelihood': -2882.245, 'ELBO': -2889.33, 'KL': 7.085}\n",
      "1150 / 5250 {'Log-likelihood': -2946.7307, 'ELBO': -2953.913, 'KL': 7.182412}\n",
      "1200 / 5250 {'Log-likelihood': -2827.8228, 'ELBO': -2835.539, 'KL': 7.7162447}\n",
      "1250 / 5250 {'Log-likelihood': -2806.5854, 'ELBO': -2814.7114, 'KL': 8.126093}\n",
      "1300 / 5250 {'Log-likelihood': -2888.5693, 'ELBO': -2897.082, 'KL': 8.512779}\n",
      "1350 / 5250 {'Log-likelihood': -2861.9797, 'ELBO': -2870.656, 'KL': 8.67632}\n",
      "1400 / 5250 {'Log-likelihood': -2816.3643, 'ELBO': -2825.25, 'KL': 8.88571}\n",
      "1450 / 5250 {'Log-likelihood': -2715.224, 'ELBO': -2724.0366, 'KL': 8.812401}\n",
      "1500 / 5250 {'Log-likelihood': -2808.8975, 'ELBO': -2817.6506, 'KL': 8.753285}\n",
      "1550 / 5250 {'Log-likelihood': -2840.981, 'ELBO': -2849.5247, 'KL': 8.543698}\n",
      "1600 / 5250 {'Log-likelihood': -2713.748, 'ELBO': -2722.307, 'KL': 8.558774}\n",
      "1650 / 5250 {'Log-likelihood': -2845.2317, 'ELBO': -2853.7136, 'KL': 8.481949}\n",
      "1700 / 5250 {'Log-likelihood': -2850.9583, 'ELBO': -2859.5046, 'KL': 8.54632}\n",
      "1750 / 5250 {'Log-likelihood': -2835.317, 'ELBO': -2843.6277, 'KL': 8.310837}\n",
      "1800 / 5250 {'Log-likelihood': -2738.7188, 'ELBO': -2746.9592, 'KL': 8.240387}\n",
      "1850 / 5250 {'Log-likelihood': -2689.3167, 'ELBO': -2697.7344, 'KL': 8.417807}\n",
      "1900 / 5250 {'Log-likelihood': -2809.1982, 'ELBO': -2817.7512, 'KL': 8.553068}\n",
      "1950 / 5250 {'Log-likelihood': -2812.501, 'ELBO': -2821.105, 'KL': 8.603941}\n",
      "2000 / 5250 {'Log-likelihood': -2769.154, 'ELBO': -2777.7798, 'KL': 8.625713}\n",
      "2050 / 5250 {'Log-likelihood': -2725.3552, 'ELBO': -2734.124, 'KL': 8.768831}\n",
      "2100 / 5250 {'Log-likelihood': -2870.9893, 'ELBO': -2879.9363, 'KL': 8.94692}\n",
      "2150 / 5250 {'Log-likelihood': -2742.605, 'ELBO': -2751.469, 'KL': 8.863977}\n",
      "2200 / 5250 {'Log-likelihood': -2803.8257, 'ELBO': -2812.7378, 'KL': 8.91213}\n",
      "2250 / 5250 {'Log-likelihood': -2746.7522, 'ELBO': -2755.8086, 'KL': 9.056457}\n",
      "2300 / 5250 {'Log-likelihood': -2884.4377, 'ELBO': -2893.6538, 'KL': 9.216167}\n",
      "2350 / 5250 {'Log-likelihood': -2873.9438, 'ELBO': -2883.248, 'KL': 9.30411}\n",
      "2400 / 5250 {'Log-likelihood': -2658.5396, 'ELBO': -2668.0254, 'KL': 9.485756}\n",
      "2450 / 5250 {'Log-likelihood': -2748.2852, 'ELBO': -2757.859, 'KL': 9.573774}\n",
      "2500 / 5250 {'Log-likelihood': -2697.8862, 'ELBO': -2707.5762, 'KL': 9.68984}\n",
      "2550 / 5250 {'Log-likelihood': -2712.9739, 'ELBO': -2722.8474, 'KL': 9.873648}\n",
      "2600 / 5250 {'Log-likelihood': -2652.996, 'ELBO': -2662.9148, 'KL': 9.918678}\n",
      "2650 / 5250 {'Log-likelihood': -2880.435, 'ELBO': -2890.5674, 'KL': 10.132217}\n",
      "2700 / 5250 {'Log-likelihood': -2826.1216, 'ELBO': -2836.4546, 'KL': 10.332895}\n",
      "2750 / 5250 {'Log-likelihood': -2737.8423, 'ELBO': -2748.255, 'KL': 10.412706}\n",
      "2800 / 5250 {'Log-likelihood': -2670.086, 'ELBO': -2680.608, 'KL': 10.521961}\n",
      "2850 / 5250 {'Log-likelihood': -2822.5796, 'ELBO': -2833.259, 'KL': 10.679333}\n",
      "2900 / 5250 {'Log-likelihood': -2850.5034, 'ELBO': -2861.1887, 'KL': 10.685227}\n",
      "2950 / 5250 {'Log-likelihood': -2869.0547, 'ELBO': -2879.8325, 'KL': 10.777926}\n",
      "3000 / 5250 {'Log-likelihood': -2788.806, 'ELBO': -2799.7942, 'KL': 10.988286}\n",
      "3050 / 5250 {'Log-likelihood': -2675.338, 'ELBO': -2686.333, 'KL': 10.99509}\n",
      "3100 / 5250 {'Log-likelihood': -2835.421, 'ELBO': -2846.656, 'KL': 11.235195}\n",
      "3150 / 5250 {'Log-likelihood': -2701.696, 'ELBO': -2712.9944, 'KL': 11.298443}\n",
      "3200 / 5250 {'Log-likelihood': -2859.1875, 'ELBO': -2870.6704, 'KL': 11.482905}\n",
      "3250 / 5250 {'Log-likelihood': -2637.1174, 'ELBO': -2648.5198, 'KL': 11.402278}\n",
      "3300 / 5250 {'Log-likelihood': -2693.1685, 'ELBO': -2704.6528, 'KL': 11.484349}\n",
      "3350 / 5250 {'Log-likelihood': -2831.1904, 'ELBO': -2842.8914, 'KL': 11.701005}\n",
      "3400 / 5250 {'Log-likelihood': -2886.383, 'ELBO': -2898.1072, 'KL': 11.724073}\n",
      "3450 / 5250 {'Log-likelihood': -2738.562, 'ELBO': -2750.2356, 'KL': 11.673485}\n",
      "3500 / 5250 {'Log-likelihood': -2893.6133, 'ELBO': -2905.5518, 'KL': 11.938491}\n",
      "3550 / 5250 {'Log-likelihood': -2697.1455, 'ELBO': -2709.12, 'KL': 11.974532}\n",
      "3600 / 5250 {'Log-likelihood': -2695.8154, 'ELBO': -2707.9358, 'KL': 12.120429}\n",
      "3650 / 5250 {'Log-likelihood': -2790.168, 'ELBO': -2802.2507, 'KL': 12.082825}\n",
      "3700 / 5250 {'Log-likelihood': -2824.7417, 'ELBO': -2836.9402, 'KL': 12.198507}\n",
      "3750 / 5250 {'Log-likelihood': -2753.6494, 'ELBO': -2765.894, 'KL': 12.244729}\n",
      "3800 / 5250 {'Log-likelihood': -2729.832, 'ELBO': -2742.036, 'KL': 12.203944}\n",
      "3850 / 5250 {'Log-likelihood': -2663.642, 'ELBO': -2676.0261, 'KL': 12.38408}\n",
      "3900 / 5250 {'Log-likelihood': -2809.6108, 'ELBO': -2822.1543, 'KL': 12.543472}\n",
      "3950 / 5250 {'Log-likelihood': -2765.9104, 'ELBO': -2778.4536, 'KL': 12.5431595}\n",
      "4000 / 5250 {'Log-likelihood': -2844.475, 'ELBO': -2857.1677, 'KL': 12.692577}\n",
      "4050 / 5250 {'Log-likelihood': -2687.1914, 'ELBO': -2699.8726, 'KL': 12.681139}\n",
      "4100 / 5250 {'Log-likelihood': -2817.0195, 'ELBO': -2829.8193, 'KL': 12.79983}\n",
      "4150 / 5250 {'Log-likelihood': -2758.212, 'ELBO': -2771.1392, 'KL': 12.927331}\n",
      "4200 / 5250 {'Log-likelihood': -2686.3867, 'ELBO': -2699.3325, 'KL': 12.945766}\n",
      "4250 / 5250 {'Log-likelihood': -2726.8508, 'ELBO': -2739.8906, 'KL': 13.039826}\n",
      "4300 / 5250 {'Log-likelihood': -2815.0918, 'ELBO': -2828.2102, 'KL': 13.118507}\n",
      "4350 / 5250 {'Log-likelihood': -2729.1208, 'ELBO': -2742.3096, 'KL': 13.188623}\n",
      "4400 / 5250 {'Log-likelihood': -2678.7422, 'ELBO': -2691.9592, 'KL': 13.216988}\n",
      "4450 / 5250 {'Log-likelihood': -2675.415, 'ELBO': -2688.6553, 'KL': 13.240353}\n",
      "4500 / 5250 {'Log-likelihood': -2671.7244, 'ELBO': -2685.09, 'KL': 13.365604}\n",
      "4550 / 5250 {'Log-likelihood': -2864.0112, 'ELBO': -2877.6501, 'KL': 13.638811}\n",
      "4600 / 5250 {'Log-likelihood': -2735.0474, 'ELBO': -2748.779, 'KL': 13.731571}\n",
      "4650 / 5250 {'Log-likelihood': -2744.559, 'ELBO': -2758.295, 'KL': 13.7358465}\n",
      "4700 / 5250 {'Log-likelihood': -2812.2715, 'ELBO': -2826.2373, 'KL': 13.965743}\n",
      "4750 / 5250 {'Log-likelihood': -2631.9531, 'ELBO': -2645.8877, 'KL': 13.934538}\n",
      "4800 / 5250 {'Log-likelihood': -2740.9397, 'ELBO': -2755.0356, 'KL': 14.095833}\n",
      "4850 / 5250 {'Log-likelihood': -2658.9502, 'ELBO': -2673.0842, 'KL': 14.134062}\n",
      "4900 / 5250 {'Log-likelihood': -2734.2832, 'ELBO': -2748.4346, 'KL': 14.151273}\n",
      "4950 / 5250 {'Log-likelihood': -2803.0522, 'ELBO': -2817.3384, 'KL': 14.286093}\n",
      "5000 / 5250 {'Log-likelihood': -2688.803, 'ELBO': -2703.0105, 'KL': 14.207497}\n",
      "5050 / 5250 {'Log-likelihood': -2732.9932, 'ELBO': -2747.4045, 'KL': 14.411436}\n",
      "5100 / 5250 {'Log-likelihood': -2626.201, 'ELBO': -2640.5774, 'KL': 14.376514}\n",
      "5150 / 5250 {'Log-likelihood': -2612.933, 'ELBO': -2627.3774, 'KL': 14.444399}\n",
      "5200 / 5250 {'Log-likelihood': -2677.2844, 'ELBO': -2691.858, 'KL': 14.57353}\n"
     ]
    }
   ],
   "source": [
    "# Update model with latent dimension of 10 and no batch information\n",
    "model = SCPHERE(n_gene=x.shape[1], n_batch=0,\n",
    "                z_dim=9, latent_dist='vmf', batch_invariant=False, \n",
    "                observation_dist='nb', seed=0)\n",
    "\n",
    "trainer = Trainer(model=model, x=x, batch_id=batch, max_epoch=250,\n",
    "                  mb_size=128, learning_rate=0.001)\n",
    "\n",
    "trainer.train()"
   ]
  },
  {
   "cell_type": "code",
   "execution_count": 21,
   "metadata": {},
   "outputs": [
    {
     "name": "stdout",
     "output_type": "stream",
     "text": [
      "Embedding saved to ./example/output/embedding.csv\n"
     ]
    },
    {
     "data": {
      "image/png": "[encoded data removed]",
      "text/plain": [
       "<Figure size 320x320 with 1 Axes>"
      ]
     },
     "metadata": {},
     "output_type": "display_data"
    }
   ],
   "source": [
    "# Save the trained model and embeddings\n",
    "save_path = './example/output/'\n",
    "model_name = save_path + 'model_250epoch'\n",
    "model.save_sess(model_name)\n",
    "\n",
    "z_mean = model.encode(x, batch)\n",
    "np.savetxt(save_path + 'latent_250epoch.tsv', z_mean)\n",
    "\n",
    "z_vis = z_mean[:, :2]\n",
    "\n",
    "# Plotting\n",
    "plt.figure()\n",
    "plt.scatter(z_vis[:, 0], z_vis[:, 1])\n",
    "plt.xlabel('Dimension 1')\n",
    "plt.ylabel('Dimension 2')\n",
    "plt.title('scPhere')\n",
    "plt.savefig(save_path + 'embedding_visualization.png')\n",
    "\n",
    "embedding_df = pd.DataFrame(z_vis, columns=['Dimension 1', 'Dimension 2'])\n",
    "embedding_df.to_csv(save_path + 'embedding.csv', index=False)\n",
    "print('Embedding saved to ' + save_path + 'embedding.csv')"
   ]
  },
  {
   "cell_type": "code",
   "execution_count": 22,
   "metadata": {},
   "outputs": [
    {
     "name": "stdout",
     "output_type": "stream",
     "text": [
      "Data type of z_mean: float32\n",
      "z_mean saved to ./example/output/z_mean.csv\n"
     ]
    }
   ],
   "source": [
    "# Print the data type of z_mean\n",
    "print(\"Data type of z_mean:\", z_mean.dtype)\n",
    "\n",
    "# Convert z_mean to a DataFrame and save as CSV\n",
    "z_mean_df = pd.DataFrame(z_mean)\n",
    "# Assuming zmean is your DataFrame\n",
    "z_mean_df.rename(columns={0: 'Dimension_0',1: 'Dimension_1', 2: 'Dimension_2', 3: 'Dimension_3', \n",
    "                      4: 'Dimension_4', 5: 'Dimension_5', 6: 'Dimension_6', \n",
    "                      7: 'Dimension_7', 8: 'Dimension_8', 9: 'Dimension_9'}, inplace=True)\n",
    "\n",
    "z_mean_df.to_csv(save_path + 'z_mean.csv', index=False)\n",
    "print('z_mean saved to ' + save_path + 'z_mean.csv')"
   ]
  },
  {
   "cell_type": "code",
   "execution_count": 23,
   "metadata": {},
   "outputs": [
    {
     "data": {
      "text/plain": [
       "(2700, 10)"
      ]
     },
     "execution_count": 23,
     "metadata": {},
     "output_type": "execute_result"
    }
   ],
   "source": [
    "z_mean_df.shape"
   ]
  },
  {
   "cell_type": "code",
   "execution_count": null,
   "metadata": {},
   "outputs": [],
   "source": []
  }
 ],
 "metadata": {
  "kernelspec": {
   "display_name": "Python 3",
   "language": "python",
   "name": "python3"
  },
  "language_info": {
   "codemirror_mode": {
    "name": "ipython",
    "version": 3
   },
   "file_extension": ".py",
   "mimetype": "text/x-python",
   "name": "python",
   "nbconvert_exporter": "python",
   "pygments_lexer": "ipython3",
   "version": "3.6.7"
  }
 },
 "nbformat": 4,
 "nbformat_minor": 2
}
